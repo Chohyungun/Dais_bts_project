{
 "cells": [
  {
   "cell_type": "code",
   "execution_count": 56,
   "metadata": {},
   "outputs": [],
   "source": [
    "import tqdm\n",
    "from CAM import make_CAM\n",
    "import cfg\n",
    "import pandas as pd\n",
    "cfg = cfg.cfg\n",
    "\n",
    "# preprocess_list = ['median_blur', 'noise_drop', 'his_equalized', 'sobel_masking_y','scharr', 'clahe']\n",
    "preprocess_list = ['median_blur']\n",
    "for preprocess in tqdm(preprocess_list):\n",
    "    df_path = \"/DaiS_internship/Hyundai_RB/save_txt_path/ACC_2000_REJ_274(only_fold_data)/fold_1.txt\"\n",
    "    df = pd.read_csv(df_path)\n",
    "    df = df[:5]\n",
    "    make_CAM(df, cfg, preprocess)\n"
   ]
  }
 ],
 "metadata": {
  "kernelspec": {
   "display_name": "Python 3",
   "language": "python",
   "name": "python3"
  },
  "language_info": {
   "codemirror_mode": {
    "name": "ipython",
    "version": 3
   },
   "file_extension": ".py",
   "mimetype": "text/x-python",
   "name": "python",
   "nbconvert_exporter": "python",
   "pygments_lexer": "ipython3",
   "version": "3.8.10"
  },
  "orig_nbformat": 4
 },
 "nbformat": 4,
 "nbformat_minor": 2
}
